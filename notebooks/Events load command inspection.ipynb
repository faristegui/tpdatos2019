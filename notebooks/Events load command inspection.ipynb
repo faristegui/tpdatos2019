{
 "cells": [
  {
   "cell_type": "code",
   "execution_count": 1,
   "metadata": {},
   "outputs": [],
   "source": [
    "import pandas as pd\n",
    "import numpy as np\n",
    "import os"
   ]
  },
  {
   "cell_type": "code",
   "execution_count": 2,
   "metadata": {},
   "outputs": [],
   "source": [
    "# get just de first 100 rows to infer data types and the efficiently load whole file\n",
    "df = pd.read_csv('../data/events.csv', engine='c', nrows=100)"
   ]
  },
  {
   "cell_type": "code",
   "execution_count": 3,
   "metadata": {},
   "outputs": [
    {
     "data": {
      "text/html": [
       "<div>\n",
       "<style scoped>\n",
       "    .dataframe tbody tr th:only-of-type {\n",
       "        vertical-align: middle;\n",
       "    }\n",
       "\n",
       "    .dataframe tbody tr th {\n",
       "        vertical-align: top;\n",
       "    }\n",
       "\n",
       "    .dataframe thead th {\n",
       "        text-align: right;\n",
       "    }\n",
       "</style>\n",
       "<table border=\"1\" class=\"dataframe\">\n",
       "  <thead>\n",
       "    <tr style=\"text-align: right;\">\n",
       "      <th></th>\n",
       "      <th>date</th>\n",
       "      <th>event_id</th>\n",
       "      <th>ref_type</th>\n",
       "      <th>ref_hash</th>\n",
       "      <th>application_id</th>\n",
       "      <th>attributed</th>\n",
       "      <th>device_countrycode</th>\n",
       "      <th>device_os_version</th>\n",
       "      <th>device_brand</th>\n",
       "      <th>device_model</th>\n",
       "      <th>...</th>\n",
       "      <th>trans_id</th>\n",
       "      <th>user_agent</th>\n",
       "      <th>event_uuid</th>\n",
       "      <th>carrier</th>\n",
       "      <th>kind</th>\n",
       "      <th>device_os</th>\n",
       "      <th>wifi</th>\n",
       "      <th>connection_type</th>\n",
       "      <th>ip_address</th>\n",
       "      <th>device_language</th>\n",
       "    </tr>\n",
       "  </thead>\n",
       "  <tbody>\n",
       "    <tr>\n",
       "      <th>0</th>\n",
       "      <td>2019-03-05 00:09:36.966</td>\n",
       "      <td>0</td>\n",
       "      <td>1891515180541284343</td>\n",
       "      <td>2688759737656491380</td>\n",
       "      <td>38</td>\n",
       "      <td>False</td>\n",
       "      <td>6333597102633388268</td>\n",
       "      <td>5.908703e+17</td>\n",
       "      <td>NaN</td>\n",
       "      <td>5.990117e+18</td>\n",
       "      <td>...</td>\n",
       "      <td>NaN</td>\n",
       "      <td>NaN</td>\n",
       "      <td>a9c0b263-acb2-4577-92c5-cbde5d7a5db1</td>\n",
       "      <td>2.248157e+17</td>\n",
       "      <td>5.516623e+18</td>\n",
       "      <td>7.531669e+18</td>\n",
       "      <td>NaN</td>\n",
       "      <td>Cable/DSL</td>\n",
       "      <td>7858558567428669000</td>\n",
       "      <td>4.077062e+17</td>\n",
       "    </tr>\n",
       "    <tr>\n",
       "      <th>1</th>\n",
       "      <td>2019-03-05 00:09:38.920</td>\n",
       "      <td>1</td>\n",
       "      <td>1891515180541284343</td>\n",
       "      <td>2688759737656491380</td>\n",
       "      <td>38</td>\n",
       "      <td>False</td>\n",
       "      <td>6333597102633388268</td>\n",
       "      <td>5.908703e+17</td>\n",
       "      <td>NaN</td>\n",
       "      <td>5.990117e+18</td>\n",
       "      <td>...</td>\n",
       "      <td>NaN</td>\n",
       "      <td>NaN</td>\n",
       "      <td>1cd98205-0d97-4ec2-a019-667997dbfe7a</td>\n",
       "      <td>2.248157e+17</td>\n",
       "      <td>9.977660e+17</td>\n",
       "      <td>7.531669e+18</td>\n",
       "      <td>NaN</td>\n",
       "      <td>Cable/DSL</td>\n",
       "      <td>7858558567428669000</td>\n",
       "      <td>4.077062e+17</td>\n",
       "    </tr>\n",
       "    <tr>\n",
       "      <th>2</th>\n",
       "      <td>2019-03-05 00:09:26.195</td>\n",
       "      <td>0</td>\n",
       "      <td>1891515180541284343</td>\n",
       "      <td>2688759737656491380</td>\n",
       "      <td>38</td>\n",
       "      <td>False</td>\n",
       "      <td>6333597102633388268</td>\n",
       "      <td>5.908703e+17</td>\n",
       "      <td>NaN</td>\n",
       "      <td>5.990117e+18</td>\n",
       "      <td>...</td>\n",
       "      <td>NaN</td>\n",
       "      <td>NaN</td>\n",
       "      <td>f02e2924-21ae-492b-b625-9021ae0a4eca</td>\n",
       "      <td>2.248157e+17</td>\n",
       "      <td>5.516623e+18</td>\n",
       "      <td>7.531669e+18</td>\n",
       "      <td>NaN</td>\n",
       "      <td>Cable/DSL</td>\n",
       "      <td>7858558567428669000</td>\n",
       "      <td>4.077062e+17</td>\n",
       "    </tr>\n",
       "    <tr>\n",
       "      <th>3</th>\n",
       "      <td>2019-03-05 00:09:31.107</td>\n",
       "      <td>2</td>\n",
       "      <td>1891515180541284343</td>\n",
       "      <td>2688759737656491380</td>\n",
       "      <td>38</td>\n",
       "      <td>False</td>\n",
       "      <td>6333597102633388268</td>\n",
       "      <td>5.908703e+17</td>\n",
       "      <td>NaN</td>\n",
       "      <td>5.990117e+18</td>\n",
       "      <td>...</td>\n",
       "      <td>NaN</td>\n",
       "      <td>NaN</td>\n",
       "      <td>a813cf45-a36e-4668-85e2-5395f1564e98</td>\n",
       "      <td>2.248157e+17</td>\n",
       "      <td>8.561153e+18</td>\n",
       "      <td>7.531669e+18</td>\n",
       "      <td>NaN</td>\n",
       "      <td>Cable/DSL</td>\n",
       "      <td>6324037615828123965</td>\n",
       "      <td>4.077062e+17</td>\n",
       "    </tr>\n",
       "    <tr>\n",
       "      <th>4</th>\n",
       "      <td>2019-03-09 21:00:36.585</td>\n",
       "      <td>3</td>\n",
       "      <td>1891515180541284343</td>\n",
       "      <td>2635154697734164782</td>\n",
       "      <td>38</td>\n",
       "      <td>False</td>\n",
       "      <td>6333597102633388268</td>\n",
       "      <td>7.391844e+18</td>\n",
       "      <td>NaN</td>\n",
       "      <td>5.960896e+18</td>\n",
       "      <td>...</td>\n",
       "      <td>NaN</td>\n",
       "      <td>NaN</td>\n",
       "      <td>63a4f0aa-e147-469f-8c55-4ca4f8d0e310</td>\n",
       "      <td>2.248157e+17</td>\n",
       "      <td>8.731902e+17</td>\n",
       "      <td>7.531669e+18</td>\n",
       "      <td>NaN</td>\n",
       "      <td>Cable/DSL</td>\n",
       "      <td>2894495631302821483</td>\n",
       "      <td>3.301378e+18</td>\n",
       "    </tr>\n",
       "  </tbody>\n",
       "</table>\n",
       "<p>5 rows × 22 columns</p>\n",
       "</div>"
      ],
      "text/plain": [
       "                      date  event_id             ref_type  \\\n",
       "0  2019-03-05 00:09:36.966         0  1891515180541284343   \n",
       "1  2019-03-05 00:09:38.920         1  1891515180541284343   \n",
       "2  2019-03-05 00:09:26.195         0  1891515180541284343   \n",
       "3  2019-03-05 00:09:31.107         2  1891515180541284343   \n",
       "4  2019-03-09 21:00:36.585         3  1891515180541284343   \n",
       "\n",
       "              ref_hash  application_id  attributed   device_countrycode  \\\n",
       "0  2688759737656491380              38       False  6333597102633388268   \n",
       "1  2688759737656491380              38       False  6333597102633388268   \n",
       "2  2688759737656491380              38       False  6333597102633388268   \n",
       "3  2688759737656491380              38       False  6333597102633388268   \n",
       "4  2635154697734164782              38       False  6333597102633388268   \n",
       "\n",
       "   device_os_version  device_brand  device_model       ...        trans_id  \\\n",
       "0       5.908703e+17           NaN  5.990117e+18       ...             NaN   \n",
       "1       5.908703e+17           NaN  5.990117e+18       ...             NaN   \n",
       "2       5.908703e+17           NaN  5.990117e+18       ...             NaN   \n",
       "3       5.908703e+17           NaN  5.990117e+18       ...             NaN   \n",
       "4       7.391844e+18           NaN  5.960896e+18       ...             NaN   \n",
       "\n",
       "   user_agent                            event_uuid       carrier  \\\n",
       "0         NaN  a9c0b263-acb2-4577-92c5-cbde5d7a5db1  2.248157e+17   \n",
       "1         NaN  1cd98205-0d97-4ec2-a019-667997dbfe7a  2.248157e+17   \n",
       "2         NaN  f02e2924-21ae-492b-b625-9021ae0a4eca  2.248157e+17   \n",
       "3         NaN  a813cf45-a36e-4668-85e2-5395f1564e98  2.248157e+17   \n",
       "4         NaN  63a4f0aa-e147-469f-8c55-4ca4f8d0e310  2.248157e+17   \n",
       "\n",
       "           kind     device_os  wifi  connection_type           ip_address  \\\n",
       "0  5.516623e+18  7.531669e+18   NaN        Cable/DSL  7858558567428669000   \n",
       "1  9.977660e+17  7.531669e+18   NaN        Cable/DSL  7858558567428669000   \n",
       "2  5.516623e+18  7.531669e+18   NaN        Cable/DSL  7858558567428669000   \n",
       "3  8.561153e+18  7.531669e+18   NaN        Cable/DSL  6324037615828123965   \n",
       "4  8.731902e+17  7.531669e+18   NaN        Cable/DSL  2894495631302821483   \n",
       "\n",
       "  device_language  \n",
       "0    4.077062e+17  \n",
       "1    4.077062e+17  \n",
       "2    4.077062e+17  \n",
       "3    4.077062e+17  \n",
       "4    3.301378e+18  \n",
       "\n",
       "[5 rows x 22 columns]"
      ]
     },
     "execution_count": 3,
     "metadata": {},
     "output_type": "execute_result"
    }
   ],
   "source": [
    "df.head()"
   ]
  },
  {
   "cell_type": "code",
   "execution_count": 4,
   "metadata": {},
   "outputs": [
    {
     "data": {
      "text/plain": [
       "date                   object\n",
       "event_id                int64\n",
       "ref_type                int64\n",
       "ref_hash                int64\n",
       "application_id          int64\n",
       "attributed               bool\n",
       "device_countrycode      int64\n",
       "device_os_version     float64\n",
       "device_brand          float64\n",
       "device_model          float64\n",
       "device_city           float64\n",
       "session_user_agent    float64\n",
       "trans_id              float64\n",
       "user_agent            float64\n",
       "event_uuid             object\n",
       "carrier               float64\n",
       "kind                  float64\n",
       "device_os             float64\n",
       "wifi                  float64\n",
       "connection_type        object\n",
       "ip_address              int64\n",
       "device_language       float64\n",
       "dtype: object"
      ]
     },
     "execution_count": 4,
     "metadata": {},
     "output_type": "execute_result"
    }
   ],
   "source": [
    "df.dtypes"
   ]
  },
  {
   "cell_type": "markdown",
   "metadata": {},
   "source": [
    "# application_id"
   ]
  },
  {
   "cell_type": "code",
   "execution_count": 5,
   "metadata": {},
   "outputs": [],
   "source": [
    "application_id_col = pd.read_csv('../data/events.csv', engine='c', usecols=['application_id'])"
   ]
  },
  {
   "cell_type": "code",
   "execution_count": 6,
   "metadata": {
    "scrolled": true
   },
   "outputs": [
    {
     "data": {
      "text/plain": [
       "66     325696\n",
       "64     259084\n",
       "145    252431\n",
       "63     181555\n",
       "103    137513\n",
       "57     134498\n",
       "121    123711\n",
       "212    108489\n",
       "113     82962\n",
       "39      76448\n",
       "Name: application_id, dtype: int64"
      ]
     },
     "execution_count": 6,
     "metadata": {},
     "output_type": "execute_result"
    }
   ],
   "source": [
    "application_id_col['application_id'].value_counts().head(10)"
   ]
  },
  {
   "cell_type": "markdown",
   "metadata": {},
   "source": [
    "This could be an int8."
   ]
  },
  {
   "cell_type": "markdown",
   "metadata": {},
   "source": [
    "# event_id"
   ]
  },
  {
   "cell_type": "code",
   "execution_count": 7,
   "metadata": {},
   "outputs": [],
   "source": [
    "event_id_col = pd.read_csv('../data/events.csv', engine='c', usecols=['event_id'])"
   ]
  },
  {
   "cell_type": "code",
   "execution_count": 29,
   "metadata": {},
   "outputs": [
    {
     "data": {
      "text/plain": [
       "22     618228\n",
       "31     417070\n",
       "161    217846\n",
       "1      157812\n",
       "138    100039\n",
       "162     84898\n",
       "329     56490\n",
       "156     53332\n",
       "33      48581\n",
       "171     43942\n",
       "Name: event_id, dtype: int64"
      ]
     },
     "execution_count": 29,
     "metadata": {},
     "output_type": "execute_result"
    }
   ],
   "source": [
    "event_id_col['event_id'].value_counts().head(10)"
   ]
  },
  {
   "cell_type": "markdown",
   "metadata": {},
   "source": [
    "This could be an int8."
   ]
  },
  {
   "cell_type": "markdown",
   "metadata": {},
   "source": [
    "# device_brand"
   ]
  },
  {
   "cell_type": "code",
   "execution_count": 31,
   "metadata": {},
   "outputs": [
    {
     "data": {
      "text/plain": [
       "0"
      ]
     },
     "execution_count": 31,
     "metadata": {},
     "output_type": "execute_result"
    }
   ],
   "source": [
    "df.device_brand.nunique()"
   ]
  },
  {
   "cell_type": "code",
   "execution_count": 32,
   "metadata": {},
   "outputs": [
    {
     "data": {
      "text/plain": [
       "Series([], Name: device_brand, dtype: int64)"
      ]
     },
     "execution_count": 32,
     "metadata": {},
     "output_type": "execute_result"
    }
   ],
   "source": [
    "df.device_brand.value_counts().head()"
   ]
  },
  {
   "cell_type": "markdown",
   "metadata": {},
   "source": [
    "**It is now confirmed that this column is absolutely useless.**"
   ]
  },
  {
   "cell_type": "markdown",
   "metadata": {},
   "source": [
    "# ref_type"
   ]
  },
  {
   "cell_type": "code",
   "execution_count": 16,
   "metadata": {},
   "outputs": [
    {
     "data": {
      "text/plain": [
       "2"
      ]
     },
     "execution_count": 16,
     "metadata": {},
     "output_type": "execute_result"
    }
   ],
   "source": [
    "df.ref_type.nunique()"
   ]
  },
  {
   "cell_type": "code",
   "execution_count": 17,
   "metadata": {
    "scrolled": true
   },
   "outputs": [
    {
     "data": {
      "text/plain": [
       "4087    1882743\n",
       "6491     611680\n",
       "Name: ref_type, dtype: int64"
      ]
     },
     "execution_count": 17,
     "metadata": {},
     "output_type": "execute_result"
    }
   ],
   "source": [
    "df.ref_type.value_counts()"
   ]
  },
  {
   "cell_type": "markdown",
   "metadata": {},
   "source": [
    "# ref_hash"
   ]
  },
  {
   "cell_type": "code",
   "execution_count": 21,
   "metadata": {
    "scrolled": true
   },
   "outputs": [
    {
     "data": {
      "text/plain": [
       "196049"
      ]
     },
     "execution_count": 21,
     "metadata": {},
     "output_type": "execute_result"
    }
   ],
   "source": [
    "df.ref_hash.nunique()"
   ]
  },
  {
   "cell_type": "code",
   "execution_count": 22,
   "metadata": {
    "scrolled": true
   },
   "outputs": [
    {
     "data": {
      "text/plain": [
       "7823950631004872496    2913\n",
       "7298478026707033340    2822\n",
       "5034957474698180142    2681\n",
       "5724169280369284055    2524\n",
       "1706781657278990931    2300\n",
       "244029859389272148     2240\n",
       "7526135353349769077    2079\n",
       "8876061431560425145    2053\n",
       "99390558091295167      1966\n",
       "2514745445577342929    1925\n",
       "7932055701089699678    1880\n",
       "959309904051180368     1879\n",
       "2172957424689981672    1737\n",
       "8938936221115319274    1712\n",
       "5517347051664000025    1696\n",
       "7881865551295335841    1680\n",
       "2911380620292361100    1615\n",
       "7984059267284799536    1599\n",
       "3931396627810108588    1558\n",
       "5929807100024800254    1460\n",
       "8291491622395815056    1431\n",
       "6431911391083614553    1398\n",
       "6290225060459708362    1384\n",
       "1392381574052047210    1369\n",
       "524370095063968889     1355\n",
       "5639133576747886119    1345\n",
       "2456256724056711249    1339\n",
       "8847676025636425100    1336\n",
       "3436575239155975568    1317\n",
       "6630253456783010456    1312\n",
       "                       ... \n",
       "157629049434270787        1\n",
       "2404462553287446258       1\n",
       "9194020315316075441       1\n",
       "7813739129937447890       1\n",
       "7252925027847170864       1\n",
       "6497110467134734601       1\n",
       "7846308428567388570       1\n",
       "7450112722474049841       1\n",
       "6030838739871961810       1\n",
       "2861158773196675544       1\n",
       "4996706370106526680       1\n",
       "6153453875679286080       1\n",
       "6437303752994466598       1\n",
       "6241553451794252443       1\n",
       "3888220736043156678       1\n",
       "964510756464106068        1\n",
       "1026522613097263957       1\n",
       "4441592449899097563       1\n",
       "3187791432440347967       1\n",
       "6820016316520018347       1\n",
       "7009562562297148893       1\n",
       "5724067282482505135       1\n",
       "542920284203096810        1\n",
       "8824967259386729287       1\n",
       "4587959808658474870       1\n",
       "3863444691996527919       1\n",
       "5262023704498348823       1\n",
       "7023391121731554099       1\n",
       "5985661816547571320       1\n",
       "7797654345365407302       1\n",
       "Name: ref_hash, Length: 196049, dtype: int64"
      ]
     },
     "execution_count": 22,
     "metadata": {},
     "output_type": "execute_result"
    }
   ],
   "source": [
    "df.ref_hash.value_counts()"
   ]
  },
  {
   "cell_type": "markdown",
   "metadata": {},
   "source": [
    "# user_agent"
   ]
  },
  {
   "cell_type": "code",
   "execution_count": 36,
   "metadata": {},
   "outputs": [
    {
     "data": {
      "text/plain": [
       "0"
      ]
     },
     "execution_count": 36,
     "metadata": {},
     "output_type": "execute_result"
    }
   ],
   "source": [
    "df.user_agent.nunique()"
   ]
  },
  {
   "cell_type": "code",
   "execution_count": 37,
   "metadata": {},
   "outputs": [
    {
     "data": {
      "text/plain": [
       "Series([], Name: user_agent, dtype: int64)"
      ]
     },
     "execution_count": 37,
     "metadata": {},
     "output_type": "execute_result"
    }
   ],
   "source": [
    "df.user_agent.value_counts()"
   ]
  },
  {
   "cell_type": "markdown",
   "metadata": {},
   "source": [
    "**It is now confirmed that this column is absolutely useless.**"
   ]
  },
  {
   "cell_type": "markdown",
   "metadata": {},
   "source": [
    "# attributed"
   ]
  },
  {
   "cell_type": "code",
   "execution_count": 12,
   "metadata": {},
   "outputs": [
    {
     "data": {
      "text/plain": [
       "2"
      ]
     },
     "execution_count": 12,
     "metadata": {},
     "output_type": "execute_result"
    }
   ],
   "source": [
    "df.attributed.nunique()"
   ]
  },
  {
   "cell_type": "code",
   "execution_count": 13,
   "metadata": {},
   "outputs": [
    {
     "data": {
      "text/plain": [
       "False    2489324\n",
       "True        5099\n",
       "Name: attributed, dtype: int64"
      ]
     },
     "execution_count": 13,
     "metadata": {},
     "output_type": "execute_result"
    }
   ],
   "source": [
    "df.attributed.value_counts()"
   ]
  },
  {
   "cell_type": "markdown",
   "metadata": {},
   "source": [
    "# trans_id"
   ]
  },
  {
   "cell_type": "code",
   "execution_count": 38,
   "metadata": {},
   "outputs": [
    {
     "data": {
      "text/plain": [
       "0"
      ]
     },
     "execution_count": 38,
     "metadata": {},
     "output_type": "execute_result"
    }
   ],
   "source": [
    "df.trans_id.nunique()"
   ]
  },
  {
   "cell_type": "code",
   "execution_count": 39,
   "metadata": {},
   "outputs": [
    {
     "data": {
      "text/plain": [
       "Series([], Name: trans_id, dtype: int64)"
      ]
     },
     "execution_count": 39,
     "metadata": {},
     "output_type": "execute_result"
    }
   ],
   "source": [
    "df.trans_id.value_counts()"
   ]
  },
  {
   "cell_type": "markdown",
   "metadata": {},
   "source": [
    "Although seeming to be useless, this column is used for merge purposes."
   ]
  },
  {
   "cell_type": "markdown",
   "metadata": {},
   "source": [
    "# device_countrycode"
   ]
  },
  {
   "cell_type": "code",
   "execution_count": 14,
   "metadata": {},
   "outputs": [
    {
     "data": {
      "text/plain": [
       "1"
      ]
     },
     "execution_count": 14,
     "metadata": {},
     "output_type": "execute_result"
    }
   ],
   "source": [
    "df.device_countrycode.nunique()"
   ]
  },
  {
   "cell_type": "markdown",
   "metadata": {},
   "source": [
    "**It is now confirmed that this column is absolutely useless.**"
   ]
  },
  {
   "cell_type": "markdown",
   "metadata": {},
   "source": [
    "# connection_type"
   ]
  },
  {
   "cell_type": "code",
   "execution_count": 46,
   "metadata": {},
   "outputs": [
    {
     "data": {
      "text/plain": [
       "2"
      ]
     },
     "execution_count": 46,
     "metadata": {},
     "output_type": "execute_result"
    }
   ],
   "source": [
    "df.connection_type.nunique()"
   ]
  },
  {
   "cell_type": "code",
   "execution_count": 45,
   "metadata": {},
   "outputs": [
    {
     "data": {
      "text/plain": [
       "Cable/DSL    91\n",
       "Cellular      9\n",
       "Name: connection_type, dtype: int64"
      ]
     },
     "execution_count": 45,
     "metadata": {},
     "output_type": "execute_result"
    }
   ],
   "source": [
    "df.connection_type.value_counts()"
   ]
  },
  {
   "cell_type": "markdown",
   "metadata": {},
   "source": [
    "This could be an category"
   ]
  },
  {
   "cell_type": "markdown",
   "metadata": {},
   "source": [
    "# device_model"
   ]
  },
  {
   "cell_type": "code",
   "execution_count": 8,
   "metadata": {},
   "outputs": [
    {
     "data": {
      "text/plain": [
       "4"
      ]
     },
     "execution_count": 8,
     "metadata": {},
     "output_type": "execute_result"
    }
   ],
   "source": [
    "df.device_model.nunique()"
   ]
  },
  {
   "cell_type": "code",
   "execution_count": 9,
   "metadata": {
    "scrolled": true
   },
   "outputs": [
    {
     "data": {
      "text/plain": [
       "5.960896e+18    62\n",
       "5.130053e+18    18\n",
       "5.990117e+18    11\n",
       "6.642713e+17     9\n",
       "Name: device_model, dtype: int64"
      ]
     },
     "execution_count": 9,
     "metadata": {},
     "output_type": "execute_result"
    }
   ],
   "source": [
    "df.device_model.value_counts()"
   ]
  },
  {
   "cell_type": "markdown",
   "metadata": {},
   "source": [
    "This could be an category"
   ]
  },
  {
   "cell_type": "markdown",
   "metadata": {},
   "source": [
    "# device_os"
   ]
  },
  {
   "cell_type": "code",
   "execution_count": 12,
   "metadata": {},
   "outputs": [
    {
     "data": {
      "text/plain": [
       "1"
      ]
     },
     "execution_count": 12,
     "metadata": {},
     "output_type": "execute_result"
    }
   ],
   "source": [
    "df.device_os.nunique()"
   ]
  },
  {
   "cell_type": "code",
   "execution_count": 13,
   "metadata": {
    "scrolled": true
   },
   "outputs": [
    {
     "data": {
      "text/plain": [
       "7.531669e+18    100\n",
       "Name: device_os, dtype: int64"
      ]
     },
     "execution_count": 13,
     "metadata": {},
     "output_type": "execute_result"
    }
   ],
   "source": [
    "df.device_os.value_counts()"
   ]
  },
  {
   "cell_type": "markdown",
   "metadata": {},
   "source": [
    "**It is now confirmed that this column is absolutely useless.**"
   ]
  },
  {
   "cell_type": "markdown",
   "metadata": {},
   "source": [
    "# device_language"
   ]
  },
  {
   "cell_type": "code",
   "execution_count": 47,
   "metadata": {},
   "outputs": [
    {
     "data": {
      "text/plain": [
       "2"
      ]
     },
     "execution_count": 47,
     "metadata": {},
     "output_type": "execute_result"
    }
   ],
   "source": [
    "df.device_language.nunique()"
   ]
  },
  {
   "cell_type": "code",
   "execution_count": 48,
   "metadata": {},
   "outputs": [
    {
     "data": {
      "text/plain": [
       "3.301378e+18    62\n",
       "4.077062e+17    38\n",
       "Name: device_language, dtype: int64"
      ]
     },
     "execution_count": 48,
     "metadata": {},
     "output_type": "execute_result"
    }
   ],
   "source": [
    "df.device_language.value_counts()"
   ]
  },
  {
   "cell_type": "markdown",
   "metadata": {},
   "source": [
    "This could be an category"
   ]
  },
  {
   "cell_type": "markdown",
   "metadata": {},
   "source": [
    "# device_os_version"
   ]
  },
  {
   "cell_type": "code",
   "execution_count": 49,
   "metadata": {},
   "outputs": [
    {
     "data": {
      "text/plain": [
       "4"
      ]
     },
     "execution_count": 49,
     "metadata": {},
     "output_type": "execute_result"
    }
   ],
   "source": [
    "df.device_os_version.nunique()"
   ]
  },
  {
   "cell_type": "code",
   "execution_count": 50,
   "metadata": {},
   "outputs": [
    {
     "data": {
      "text/plain": [
       "7.391844e+18    62\n",
       "4.821887e+18    18\n",
       "5.908703e+17    11\n",
       "8.824599e+18     9\n",
       "Name: device_os_version, dtype: int64"
      ]
     },
     "execution_count": 50,
     "metadata": {},
     "output_type": "execute_result"
    }
   ],
   "source": [
    "df.device_os_version.value_counts()"
   ]
  },
  {
   "cell_type": "markdown",
   "metadata": {},
   "source": [
    "This could be an category"
   ]
  },
  {
   "cell_type": "markdown",
   "metadata": {},
   "source": [
    "# device_model"
   ]
  },
  {
   "cell_type": "code",
   "execution_count": 5,
   "metadata": {},
   "outputs": [
    {
     "data": {
      "text/plain": [
       "2624"
      ]
     },
     "execution_count": 5,
     "metadata": {},
     "output_type": "execute_result"
    }
   ],
   "source": [
    "df.device_model.nunique()"
   ]
  },
  {
   "cell_type": "code",
   "execution_count": 6,
   "metadata": {},
   "outputs": [
    {
     "data": {
      "text/plain": [
       "2.33194661091417e+18      210697\n",
       "7.787530752469096e+18      74780\n",
       "9.14903648623246e+18       66279\n",
       "2.0664313823771248e+17     60168\n",
       "4.4452523127597215e+18     56241\n",
       "1.7545278564638182e+18     53850\n",
       "8.163782690166159e+18      48814\n",
       "7.11634310093634e+18       44598\n",
       "2.9282623200704937e+18     41494\n",
       "5.990116681709081e+18      40935\n",
       "1.26767685640937e+18       38870\n",
       "1.1876609915140178e+17     38629\n",
       "3.624089450035605e+18      37489\n",
       "4.281729328614173e+18      36006\n",
       "6.598698943038051e+18      30656\n",
       "1.1813182677101786e+18     26846\n",
       "6.026543327929208e+18      26460\n",
       "3.686066659168077e+17      26275\n",
       "1.5409071305566963e+18     25154\n",
       "2.4354500947795727e+18     24645\n",
       "4.5454901435473823e+18     24201\n",
       "4.689550129432457e+18      22497\n",
       "8.604122202547542e+18      22268\n",
       "1.764701447250044e+18      21661\n",
       "4.4305786865637033e+18     20316\n",
       "2.1369349693676014e+18     19213\n",
       "6.88241452041436e+18       19122\n",
       "8.535198356827955e+18      18648\n",
       "8.733768846357008e+18      17953\n",
       "4.349815524632825e+18      17790\n",
       "                           ...  \n",
       "8.044855310608993e+18          1\n",
       "5.734992454562482e+18          1\n",
       "4.0531375329320945e+18         1\n",
       "3.666678957513462e+18          1\n",
       "4.97533806648981e+18           1\n",
       "4.648552044330371e+18          1\n",
       "8.170906428280771e+18          1\n",
       "5.540442582022048e+18          1\n",
       "2.3083083730808924e+18         1\n",
       "8.379812024208966e+18          1\n",
       "1.0342178849649029e+18         1\n",
       "3.050486086255684e+18          1\n",
       "2.933049947754534e+18          1\n",
       "8.420502791018143e+18          1\n",
       "8.038196161626729e+18          1\n",
       "2.343157291794751e+18          1\n",
       "7.0413474552139e+17            1\n",
       "7.097815502648974e+18          1\n",
       "5.466518363792365e+18          1\n",
       "5.448125840342095e+18          1\n",
       "7.369703676325886e+18          1\n",
       "4.1604196367207736e+18         1\n",
       "6.925717382274416e+18          1\n",
       "7.407709465967263e+18          1\n",
       "6.658761445305757e+18          1\n",
       "8.074954384507082e+18          1\n",
       "7.104775107408565e+18          1\n",
       "7.546210863587995e+16          1\n",
       "5.602877740427965e+18          1\n",
       "3.3233340633747676e+18         1\n",
       "Name: device_model, Length: 2624, dtype: int64"
      ]
     },
     "execution_count": 6,
     "metadata": {},
     "output_type": "execute_result"
    }
   ],
   "source": [
    "df.device_model.value_counts()"
   ]
  },
  {
   "cell_type": "markdown",
   "metadata": {},
   "source": [
    "This could be an category"
   ]
  },
  {
   "cell_type": "markdown",
   "metadata": {},
   "source": [
    "# carrier"
   ]
  },
  {
   "cell_type": "code",
   "execution_count": 53,
   "metadata": {},
   "outputs": [
    {
     "data": {
      "text/plain": [
       "2"
      ]
     },
     "execution_count": 53,
     "metadata": {},
     "output_type": "execute_result"
    }
   ],
   "source": [
    "df.carrier.nunique()"
   ]
  },
  {
   "cell_type": "code",
   "execution_count": 54,
   "metadata": {
    "scrolled": true
   },
   "outputs": [
    {
     "data": {
      "text/plain": [
       "2.248157e+17    91\n",
       "6.948828e+18     9\n",
       "Name: carrier, dtype: int64"
      ]
     },
     "execution_count": 54,
     "metadata": {},
     "output_type": "execute_result"
    }
   ],
   "source": [
    "df.carrier.value_counts()"
   ]
  },
  {
   "cell_type": "markdown",
   "metadata": {},
   "source": [
    "This could be an category"
   ]
  },
  {
   "cell_type": "markdown",
   "metadata": {},
   "source": [
    "# wifi"
   ]
  },
  {
   "cell_type": "code",
   "execution_count": 10,
   "metadata": {},
   "outputs": [
    {
     "data": {
      "text/plain": [
       "0"
      ]
     },
     "execution_count": 10,
     "metadata": {},
     "output_type": "execute_result"
    }
   ],
   "source": [
    "df.wifi.nunique()"
   ]
  },
  {
   "cell_type": "code",
   "execution_count": 11,
   "metadata": {
    "scrolled": false
   },
   "outputs": [
    {
     "data": {
      "text/plain": [
       "Series([], Name: wifi, dtype: int64)"
      ]
     },
     "execution_count": 11,
     "metadata": {},
     "output_type": "execute_result"
    }
   ],
   "source": [
    "df.wifi.value_counts()"
   ]
  },
  {
   "cell_type": "markdown",
   "metadata": {},
   "source": [
    "**It is now confirmed that this column is absolutely useless.**"
   ]
  },
  {
   "cell_type": "markdown",
   "metadata": {},
   "source": [
    "# ip_adress"
   ]
  },
  {
   "cell_type": "code",
   "execution_count": 10,
   "metadata": {},
   "outputs": [
    {
     "data": {
      "text/plain": [
       "285212"
      ]
     },
     "execution_count": 10,
     "metadata": {},
     "output_type": "execute_result"
    }
   ],
   "source": [
    "df.ip_address.nunique()"
   ]
  },
  {
   "cell_type": "code",
   "execution_count": 11,
   "metadata": {
    "scrolled": false
   },
   "outputs": [
    {
     "data": {
      "text/plain": [
       "1992632945768888579    22640\n",
       "3162368506662488065    19379\n",
       "7726314782926052608    17704\n",
       "2394721645995561079     9777\n",
       "589886713227299026      7561\n",
       "7833422721300884983     7197\n",
       "3564864895681659759     7142\n",
       "4537476465028897433     7140\n",
       "2403839579048525602     7100\n",
       "7410847412569818934     7065\n",
       "8235954648733428120     6933\n",
       "7481987231813232849     6855\n",
       "1093212093074216349     6347\n",
       "8010533080341024188     6241\n",
       "2441645233986204328     6108\n",
       "2706357072127963511     4993\n",
       "8262991154202232888     4736\n",
       "1037699812701179191     4554\n",
       "2988221197536288219     4408\n",
       "2322330997698851930     3901\n",
       "6286868732416664667     3698\n",
       "8928734162578817363     3519\n",
       "8531002764348621869     2710\n",
       "7326588564616977029     2595\n",
       "6452955265823183819     2571\n",
       "7571354015197421297     2556\n",
       "7858558567428669000     2520\n",
       "3222899837426106171     2518\n",
       "3692763185030977380     2450\n",
       "6324037615828123965     2408\n",
       "                       ...  \n",
       "8354349022722988350        1\n",
       "7810143944060388432        1\n",
       "21847751496269070          1\n",
       "767696570226258000         1\n",
       "4458841653944296923        1\n",
       "3600359755695537591        1\n",
       "965122637783580847         1\n",
       "7126654926975659289        1\n",
       "7785763114305300214        1\n",
       "6922964588773147940        1\n",
       "5571751686309944046        1\n",
       "8524042583835376204        1\n",
       "1548269110159393832        1\n",
       "1334129406815599494        1\n",
       "1440851085198796211        1\n",
       "5465990244107615598        1\n",
       "3315077788151660936        1\n",
       "377413435866433692         1\n",
       "403643581858416283         1\n",
       "5625454236420664620        1\n",
       "6297785086410596444        1\n",
       "865735738946492792         1\n",
       "5316517878243719710        1\n",
       "8896124262873260755        1\n",
       "361383479433549232         1\n",
       "6972806790365671167        1\n",
       "6216550108324576422        1\n",
       "1033135917162868094        1\n",
       "3888973223672549839        1\n",
       "8952896826617249737        1\n",
       "Name: ip_address, Length: 285212, dtype: int64"
      ]
     },
     "execution_count": 11,
     "metadata": {},
     "output_type": "execute_result"
    }
   ],
   "source": [
    "df.ip_address.value_counts()"
   ]
  },
  {
   "cell_type": "markdown",
   "metadata": {},
   "source": [
    "# event_uuid"
   ]
  },
  {
   "cell_type": "code",
   "execution_count": 3,
   "metadata": {},
   "outputs": [
    {
     "data": {
      "text/plain": [
       "2489324"
      ]
     },
     "execution_count": 3,
     "metadata": {},
     "output_type": "execute_result"
    }
   ],
   "source": [
    "df.event_uuid.nunique()"
   ]
  },
  {
   "cell_type": "markdown",
   "metadata": {},
   "source": [
    "**It is now confirmed that this column is absolutely useless.**"
   ]
  },
  {
   "cell_type": "markdown",
   "metadata": {},
   "source": [
    "# kind"
   ]
  },
  {
   "cell_type": "code",
   "execution_count": 55,
   "metadata": {},
   "outputs": [
    {
     "data": {
      "text/plain": [
       "15"
      ]
     },
     "execution_count": 55,
     "metadata": {},
     "output_type": "execute_result"
    }
   ],
   "source": [
    "df.kind.nunique()"
   ]
  },
  {
   "cell_type": "code",
   "execution_count": 56,
   "metadata": {
    "scrolled": true
   },
   "outputs": [
    {
     "data": {
      "text/plain": [
       "5.516623e+18    22\n",
       "8.561153e+18    21\n",
       "9.977660e+17     9\n",
       "3.204095e+18     8\n",
       "4.956615e+18     6\n",
       "5.904796e+18     6\n",
       "2.464594e+18     5\n",
       "7.570318e+18     5\n",
       "5.148713e+18     5\n",
       "7.230718e+18     5\n",
       "4.510630e+18     3\n",
       "1.656322e+18     2\n",
       "8.723333e+18     1\n",
       "4.172655e+18     1\n",
       "8.731902e+17     1\n",
       "Name: kind, dtype: int64"
      ]
     },
     "execution_count": 56,
     "metadata": {},
     "output_type": "execute_result"
    }
   ],
   "source": [
    "df.kind.value_counts()"
   ]
  },
  {
   "cell_type": "markdown",
   "metadata": {},
   "source": [
    "This could be an category"
   ]
  },
  {
   "cell_type": "markdown",
   "metadata": {},
   "source": [
    "# device_city"
   ]
  },
  {
   "cell_type": "code",
   "execution_count": 57,
   "metadata": {},
   "outputs": [
    {
     "data": {
      "text/plain": [
       "4"
      ]
     },
     "execution_count": 57,
     "metadata": {},
     "output_type": "execute_result"
    }
   ],
   "source": [
    "df.device_city.nunique()"
   ]
  },
  {
   "cell_type": "code",
   "execution_count": 58,
   "metadata": {
    "scrolled": true
   },
   "outputs": [
    {
     "data": {
      "text/plain": [
       "6.959330e+18    39\n",
       "2.551781e+18    28\n",
       "3.258215e+18    24\n",
       "3.800080e+18     9\n",
       "Name: device_city, dtype: int64"
      ]
     },
     "execution_count": 58,
     "metadata": {},
     "output_type": "execute_result"
    }
   ],
   "source": [
    "df.device_city.value_counts()"
   ]
  },
  {
   "cell_type": "markdown",
   "metadata": {},
   "source": [
    "This could be an category"
   ]
  },
  {
   "cell_type": "markdown",
   "metadata": {},
   "source": [
    "# session_user_agent"
   ]
  },
  {
   "cell_type": "code",
   "execution_count": 59,
   "metadata": {},
   "outputs": [
    {
     "data": {
      "text/plain": [
       "1"
      ]
     },
     "execution_count": 59,
     "metadata": {},
     "output_type": "execute_result"
    }
   ],
   "source": [
    "df.session_user_agent.nunique()"
   ]
  },
  {
   "cell_type": "code",
   "execution_count": 60,
   "metadata": {
    "scrolled": false
   },
   "outputs": [
    {
     "data": {
      "text/plain": [
       "7.164321e+18    100\n",
       "Name: session_user_agent, dtype: int64"
      ]
     },
     "execution_count": 60,
     "metadata": {},
     "output_type": "execute_result"
    }
   ],
   "source": [
    "df.session_user_agent.value_counts()"
   ]
  },
  {
   "cell_type": "markdown",
   "metadata": {},
   "source": [
    "**It is now confirmed that this column is absolutely useless.**"
   ]
  },
  {
   "cell_type": "code",
   "execution_count": 18,
   "metadata": {},
   "outputs": [
    {
     "name": "stdout",
     "output_type": "stream",
     "text": [
      "CPU times: user 21.8 s, sys: 1.18 s, total: 22.9 s\n",
      "Wall time: 22.8 s\n"
     ]
    }
   ],
   "source": [
    "%%time\n",
    "df = pd.read_csv('../data/events.csv', engine='c', \n",
    "                 usecols=['date', 'event_id', 'ref_type','ref_hash', 'application_id', 'attributed',\n",
    "                          'device_os_version', 'device_model', 'device_city',\n",
    "                          'carrier', 'kind', 'device_os', 'connection_type', 'ip_address', 'device_language', 'trans_id'],\n",
    "                 dtype={'event_id':np.int8, 'ref_type':np.int8, 'application_id':np.int8,\n",
    "                        'device_os_version':'category', 'device_model':'category', 'device_city':'category' ,\n",
    "                        'carrier':'category', 'kind':'category', 'device_os':'category',\n",
    "                        'connection_type':'category', 'device_language':'category'})"
   ]
  }
 ],
 "metadata": {
  "kernelspec": {
   "display_name": "Python 3",
   "language": "python",
   "name": "python3"
  },
  "language_info": {
   "codemirror_mode": {
    "name": "ipython",
    "version": 3
   },
   "file_extension": ".py",
   "mimetype": "text/x-python",
   "name": "python",
   "nbconvert_exporter": "python",
   "pygments_lexer": "ipython3",
   "version": "3.5.2"
  }
 },
 "nbformat": 4,
 "nbformat_minor": 2
}
