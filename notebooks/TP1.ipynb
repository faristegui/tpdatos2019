{
 "cells": [
  {
   "cell_type": "code",
   "execution_count": 3,
   "metadata": {},
   "outputs": [],
   "source": [
    "# importo librerías\n",
    "import pandas as pd\n",
    "import numpy as np"
   ]
  },
  {
   "cell_type": "code",
   "execution_count": 4,
   "metadata": {},
   "outputs": [],
   "source": [
    "# Carga de archivos CSV\n",
    "\n",
    "dfAuctions = pd.read_csv('../auctions.csv', \n",
    "                 engine='c', \n",
    "                 usecols=['date', 'device_id', 'platform','ref_type_id', 'source_id'], \n",
    "                 dtype={'platform':np.int8, 'ref_type_id':np.int8, 'source_id':np.int8})"
   ]
  },
  {
   "cell_type": "code",
   "execution_count": null,
   "metadata": {},
   "outputs": [],
   "source": [
    "dfEvents = pd.read_csv('../data/events.csv', engine='c', \n",
    "                 usecols=['date', 'event_id', 'ref_type','ref_hash', 'application_id', 'attributed',\n",
    "                 'device_countrycode', 'device_os_version', 'device_model', 'device_city', \n",
    "                 'event_uuid', 'carrier', 'kind', 'device_os', 'connection_type', 'ip_address',\n",
    "                 'device_language'],\n",
    "                 dtype={'event_id':np.int8, 'ref_type':np.int16, 'application_id':np.int8,\n",
    "                       'device_os_version':'category', 'device_model':'category', 'device_city':'category' ,\n",
    "                       'carrier':'category', 'kind':'category', \n",
    "                       'device_os':'category', 'connection_type':'category', 'device_language':'category'})"
   ]
  }
 ],
 "metadata": {
  "kernelspec": {
   "display_name": "Python 3",
   "language": "python",
   "name": "python3"
  },
  "language_info": {
   "codemirror_mode": {
    "name": "ipython",
    "version": 3
   },
   "file_extension": ".py",
   "mimetype": "text/x-python",
   "name": "python",
   "nbconvert_exporter": "python",
   "pygments_lexer": "ipython3",
   "version": "3.7.1"
  }
 },
 "nbformat": 4,
 "nbformat_minor": 2
}
