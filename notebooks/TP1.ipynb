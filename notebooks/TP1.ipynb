{
 "cells": [
  {
   "cell_type": "code",
   "execution_count": null,
   "metadata": {},
   "outputs": [],
   "source": [
    "# importo librerías\n",
    "import pandas as pd\n",
    "import numpy as np"
   ]
  },
  {
   "cell_type": "code",
   "execution_count": null,
   "metadata": {},
   "outputs": [],
   "source": [
    "# Carga de archivos CSV\n",
    "\n",
    "dfAuctions = pd.read_csv('../auctions.csv', \n",
    "                 engine='c', \n",
    "                 usecols=['date', 'device_id', 'platform','ref_type_id', 'source_id'], \n",
    "                 dtype={'platform':np.int8, 'ref_type_id':np.int8, 'source_id':np.int8})"
   ]
  },
  {
   "cell_type": "code",
   "execution_count": null,
   "metadata": {},
   "outputs": [],
   "source": [
    "dfEvents = pd.read_csv('../data/events.csv', engine='c', \n",
    "                       usecols=['date', 'event_id', 'ref_type','ref_hash', 'application_id', 'attributed',\n",
    "                                'device_os_version', 'device_model', 'device_city', \n",
    "                                'carrier', 'kind', 'device_os', 'connection_type', 'ip_address', 'device_language'],\n",
    "                       dtype={'event_id':np.int8, 'ref_type':np.int8, 'application_id':np.int8,\n",
    "                              'device_os_version':'category', 'device_model':'category', 'device_city':'category' ,\n",
    "                              'carrier':'category', 'kind':'category', 'device_os':'category',\n",
    "                              'connection_type':'category', 'device_language':'category'})"
   ]
  },
  {
   "cell_type": "code",
   "execution_count": null,
   "metadata": {},
   "outputs": [],
   "source": [
    "dfClicks = pd.read_csv('../data/clicks.csv',\n",
    "                       engine='c',\n",
    "                       usecols=['advertiser_id', 'source_id', 'created','latitude', 'longitude', 'carrier_id',\n",
    "                                'os_minor', 'agent_device', 'os_major', 'specs_brand', 'brand',\n",
    "                                'timeToClick', 'touchX', 'touchY', 'ref_type', 'ref_hash'],\n",
    "                       dtype={'advertiser_id':np.int8, 'source_id':np.int8, 'carrier_id':'category',\n",
    "                              'os_minor':'category', 'os_major':'category', 'specs_brand':np.int8, 'brand':'category',\n",
    "                              'timeToClick':np.float16, 'touchX':np.float16, 'touchY':np.float16, 'ref_type':np.int8})"
   ]
  },
  {
   "cell_type": "code",
   "execution_count": null,
   "metadata": {},
   "outputs": [],
   "source": [
    "dfInstalls = pd.read_csv('../data/installs.csv', engine='c',)"
   ]
  }
 ],
 "metadata": {
  "kernelspec": {
   "display_name": "Python 3",
   "language": "python",
   "name": "python3"
  },
  "language_info": {
   "codemirror_mode": {
    "name": "ipython",
    "version": 3
   },
   "file_extension": ".py",
   "mimetype": "text/x-python",
   "name": "python",
   "nbconvert_exporter": "python",
   "pygments_lexer": "ipython3",
   "version": "3.5.2"
  }
 },
 "nbformat": 4,
 "nbformat_minor": 2
}
